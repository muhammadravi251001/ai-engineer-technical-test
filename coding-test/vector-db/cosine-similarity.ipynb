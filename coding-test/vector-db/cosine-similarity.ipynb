{
 "cells": [
  {
   "cell_type": "markdown",
   "id": "18dc6318",
   "metadata": {},
   "source": [
    "**Main Question**: Deploy the vector DB on your own, and implement the `vector cosine similarity` without using a high level library. \n",
    "\n",
    "*Assumption*: The main point on this question is to construct `cosine_similarity` formula to Python function. I assume that I can use `vector_db` dummy and only save them as a `pickle`. This implementation can be easily extended to larger datasets or real embeddings from LLMs in the future."
   ]
  },
  {
   "cell_type": "code",
   "execution_count": 40,
   "id": "3f2c420e",
   "metadata": {},
   "outputs": [],
   "source": [
    "import math\n",
    "import pickle"
   ]
  },
  {
   "cell_type": "code",
   "execution_count": 41,
   "id": "a6543130",
   "metadata": {},
   "outputs": [],
   "source": [
    "def cosine_similarity(a, b):\n",
    "    norm_a = math.sqrt(sum(x*x for x in a))\n",
    "    norm_b = math.sqrt(sum(y*y for y in b))\n",
    "    if norm_a == 0 or norm_b == 0:\n",
    "        return 0.0\n",
    "    \n",
    "    dot_product = sum(x*y for x, y in zip(a, b))\n",
    "    return dot_product / (norm_a * norm_b)"
   ]
  },
  {
   "cell_type": "code",
   "execution_count": 42,
   "id": "dbcdd732",
   "metadata": {},
   "outputs": [],
   "source": [
    "def top_k_query(vector_db, query_vec, k):\n",
    "    scores = []\n",
    "    for doc_id, embedding in vector_db.items():\n",
    "        score = cosine_similarity(query_vec, embedding)\n",
    "        scores.append((doc_id, score))\n",
    "    scores.sort(key=lambda x: x[1], reverse=True)\n",
    "    return scores[:k]"
   ]
  },
  {
   "cell_type": "code",
   "execution_count": 43,
   "id": "dc9ba254",
   "metadata": {},
   "outputs": [
    {
     "name": "stdout",
     "output_type": "stream",
     "text": [
      "Top-5 most similar documents:\n",
      "doc_1: 0.9959\n",
      "doc_2: 0.9524\n",
      "doc_5: 0.9468\n",
      "doc_3: 0.8304\n",
      "doc_4: 0.5179\n"
     ]
    }
   ],
   "source": [
    "# Dummy vector database\n",
    "vector_db = {\n",
    "    \"doc_1\": [0.1, 0.3, 0.5],\n",
    "    \"doc_2\": [0.2, 0.1, 0.4],\n",
    "    \"doc_3\": [0.9, 0.8, 0.7],\n",
    "    \"doc_4\": [0.5, 0.2, 0.1],\n",
    "    \"doc_5\": [0.0, 0.2, 0.9]\n",
    "}\n",
    "\n",
    "query_vec = [0.1, 0.2, 0.4]\n",
    "\n",
    "K = 5\n",
    "top_k_results = top_k_query(vector_db, query_vec, k=K)\n",
    "\n",
    "print(f\"Top-{K} most similar documents:\")\n",
    "for doc_id, score in top_k_results:\n",
    "    print(f\"{doc_id}: {score:.4f}\")"
   ]
  },
  {
   "cell_type": "code",
   "execution_count": 44,
   "id": "913f5597",
   "metadata": {},
   "outputs": [
    {
     "name": "stdout",
     "output_type": "stream",
     "text": [
      "Loaded vector DB keys: ['doc_1', 'doc_2', 'doc_3', 'doc_4', 'doc_5']\n"
     ]
    }
   ],
   "source": [
    "with open(\"vector_db.pkl\", \"wb\") as f:\n",
    "    pickle.dump(vector_db, f)\n",
    "\n",
    "with open(\"vector_db.pkl\", \"rb\") as f:\n",
    "    loaded_vector_db = pickle.load(f)\n",
    "\n",
    "print(\"Loaded vector DB keys:\", list(loaded_vector_db.keys()))"
   ]
  }
 ],
 "metadata": {
  "kernelspec": {
   "display_name": "ai-engineer-technical-test-env",
   "language": "python",
   "name": "python3"
  },
  "language_info": {
   "codemirror_mode": {
    "name": "ipython",
    "version": 3
   },
   "file_extension": ".py",
   "mimetype": "text/x-python",
   "name": "python",
   "nbconvert_exporter": "python",
   "pygments_lexer": "ipython3",
   "version": "3.10.0"
  }
 },
 "nbformat": 4,
 "nbformat_minor": 5
}
